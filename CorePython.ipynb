{
 "cells": [
  {
   "cell_type": "raw",
   "id": "a66e1db4",
   "metadata": {},
   "source": [
    "# LAB-2\n",
    "\n",
    "1. Write a OOP in python to input empid, name, basic salary, no. of experience in yrs.\n",
    "Calculate hra(35% of basic), da (58% of basic) and pf (9.5% of basic).\n",
    "Also calculate bonus based on experience in years.\n",
    "If experience in years is >= 30, bonus must be 59% of basic,\n",
    "If experience in years is >=23, bonus must be 51% of basic,\n",
    "If experience in years is >=15, bonus must be 45% of basic,\n",
    "If experience in years is >=7, bonus must be 33% of basic,\n",
    "If experience in years is <7, bonus must be 16% of basic\n",
    "Calculate netsalary as basic+da+hra-pf+bonus.\n",
    "Create a class, constructor to create instance variables, getter-setter for each variable,\n",
    "calculative functions for operative variables. A class methods/function should not contain"
   ]
  },
  {
   "cell_type": "code",
   "execution_count": null,
   "id": "1a9c7eaf",
   "metadata": {},
   "outputs": [],
   "source": [
    "class Employee:\n",
    "    def __init__(self,empId,empName,empSalary,empExp):\n",
    "        self.empId=empId\n",
    "        self.empName =empName\n",
    "        self.empSalary = empSalary\n",
    "        self.empExp =empExp\n",
    "        self.hra =0\n",
    "        self.da =0\n",
    "        self.pa =0\n",
    "        self.bonus=0\n",
    "          \n",
    "    def calcHra (self):\n",
    "    \n",
    "      self.hra = 0.35 * self.empSalary\n",
    "        \n",
    "        \n",
    "    def calcDa(self):\n",
    "    \n",
    "       self.da = 0.58 * self.empSalary\n",
    "              \n",
    "    def calcPf(self):\n",
    "    \n",
    "       self.pa = 0.095 * self.empSalary\n",
    "        \n",
    "    def calcBonus(self):\n",
    "        \n",
    "        if self.empExp >= 30:\n",
    "            self.bonus = 0.59 * self.empSalary\n",
    "        elif self.empExp >= 23:\n",
    "            self.bonus = 0.51* self.empSalary\n",
    "        elif self.empExp >= 15 :\n",
    "            self.bonus = 0.45 * self.empSalary\n",
    "        elif self.empExp >=7 :\n",
    "            self.bonus = 0.33 * self.empSalary\n",
    "        else :\n",
    "            self.bonus =0.16 * self.empSalary\n",
    "            \n",
    "            \n",
    "            \n",
    "    def calcNetSalary(self):\n",
    "        \n",
    "        self.calcHra()\n",
    "        self.calcDa()\n",
    "        self.calcPf()\n",
    "        self.calcBonus()\n",
    "        self.netSalary = self.empSalary+self.hra+self.da+self.bonus-self.pa\n",
    "        return self.netSalary\n",
    "    \n",
    "\n",
    "    \n",
    "    \n",
    "\n",
    "    if __name__==\"__main__\":\n",
    "        \n",
    "        salaryCalc = Employee(10,'Matin',1300000,3)\n",
    "        salaryCalc.calcNetSalary()\n",
    "        print(f'Net salary is : {salaryCalc.calcNetSalary()}')\n",
    "      "
   ]
  },
  {
   "cell_type": "raw",
   "id": "5f5cc7b4",
   "metadata": {},
   "source": [
    "2. Write an OOP based Python program which inputs n numbers in a list from keyboard. If 8\n",
    "numbers are inputted, calculate sum of 0th and 7th element and save it in another list say\n",
    "newlist[0], sum of 1st and 6th to newlist[1], sum of 2nd and 5th to newlist[2], sum of 3rd and 4th\n",
    "to newlist[3] and so on. Remove duplicates from newlist if any by converting to set. Later\n",
    "convert it to tuple and display.\n"
   ]
  },
  {
   "cell_type": "code",
   "execution_count": 8,
   "id": "98689574",
   "metadata": {},
   "outputs": [
    {
     "name": "stdout",
     "output_type": "stream",
     "text": [
      "Enter Array Length:4\n",
      "num:20\n",
      "num:40\n",
      "num:29\n",
      "num:40\n",
      "old List\n",
      "[20, 40, 29, 40]\n",
      "New List\n",
      "[60, 69]\n"
     ]
    }
   ],
   "source": [
    "n = int(input(\"Enter Array Length:\"))\n",
    "lst = []\n",
    "newLst = []\n",
    "for i in range(0,n):\n",
    "    newNum = int(input(\"num:\"))\n",
    "    lst.append(newNum)\n",
    "print(\"old List\")    \n",
    "print(lst)\n",
    "for i in range(0,int(n/2)):\n",
    "    b=lst[i] + lst[n-1-i]\n",
    "    newLst.append(b)\n",
    "print(\"New List\")    \n",
    "print(newLst)"
   ]
  },
  {
   "cell_type": "raw",
   "id": "ef2e96fe",
   "metadata": {},
   "source": [
    "3. Write an OOP program to perform addition, base and power, concatenation, max, min of two\n",
    "numbers stored in two different objects created from same class.\n",
    "n1=MyNumber(2)\n",
    "n2=MyNumber()\n",
    "n2.setNum(5)\n",
    "n3=n1.add(n2)\n",
    "print(\"Addition is \",n3.getNum()) #7\n",
    "n3=n1.raisedTo(n2)\n",
    "print(n1.getNum(),\" raised to \",n2.getNum(),\" is \",n3.getNum()) #32\n",
    "n3=n1.concat(n2)\n",
    "print(\"Concat answer is \",n3.getNum()) #25\n",
    "n3=n1.max(n2)\n",
    "print(\"Max is \",n3.getNum())"
   ]
  },
  {
   "cell_type": "code",
   "execution_count": 1,
   "id": "063bbfa8",
   "metadata": {},
   "outputs": [
    {
     "name": "stdout",
     "output_type": "stream",
     "text": [
      "10\n",
      "The Power is :  343\n",
      "The conca is: 73\n",
      "The Max is : 7\n",
      "The Min is : 3\n"
     ]
    }
   ],
   "source": [
    "class Operations :\n",
    "    def __init__ (self,num):\n",
    "        self.num = num\n",
    "    def getNum(self):\n",
    "        return self.num\n",
    "    def add(self,n2):\n",
    "        return self.num + n2.num\n",
    "    def power(self,n2):\n",
    "        return self.num**n2.num\n",
    "    def conca(self,n2):\n",
    "        return int(str(self.num)+str(n2.num))\n",
    "    def Max(self,n2):\n",
    "        return max(self.num,n2.num)\n",
    "    def Min(self,n2):\n",
    "        return min(self.num,n2.num)\n",
    "n1 = Operations(7)\n",
    "n2 = Operations(3)\n",
    "n1.getNum()\n",
    "\n",
    "n3 = n1.add(n2)\n",
    "\n",
    "print(n3)\n",
    "n3 =n1.power(n2)\n",
    "print(\"The Power is : \",n3)\n",
    "n3 =n1.conca(n2)\n",
    "print(\"The conca is:\",n3)\n",
    "n3 =n1.Max(n2)\n",
    "print(\"The Max is :\",n3)\n",
    "n3 =n1.Min(n2)\n",
    "print(\"The Min is :\",n3)"
   ]
  },
  {
   "cell_type": "markdown",
   "id": "ba63de6e",
   "metadata": {},
   "source": [
    "# lab3"
   ]
  },
  {
   "cell_type": "raw",
   "id": "429e05fb",
   "metadata": {},
   "source": [
    "1. Write a python program to access following data structure\n",
    "data=[(12345,\"Diksha \",\"Diksha r@nuv.ac.in\"),(45667,\"Jiva\",\"Jiva@nuv.ac.in\"),\n",
    "(16789,\"Ronit\",\"Ronitd@nuv.ac.in\"),(69433,\"Heena\",\"Heena@nuv.ac.in\")] "
   ]
  },
  {
   "cell_type": "code",
   "execution_count": 1,
   "id": "ae5af8cc",
   "metadata": {},
   "outputs": [
    {
     "name": "stdout",
     "output_type": "stream",
     "text": [
      "Enter A ID:1234\n",
      "Enter A Name:chbcvb\n",
      "Enter A Email:bc\n",
      "(1234, 'Diksha', 'Dikshar@numv.ac.in')\n"
     ]
    }
   ],
   "source": [
    "data = [(1234,\"Diksha\",\"Dikshar@numv.ac.in\"),(45667,\"Jiva\",\"Jiva@numv.ac.in\")\n",
    "        ,(16789,\"Ronitd\",\"Ronitd@numv.ac.in\"),(69433,\"Henna\",\"Henna@numv.ac.in\")]\n",
    "ID = int(input(\"Enter A ID:\"))\n",
    "Name = str(input(\"Enter A Name:\"))\n",
    "Email = str(input(\"Enter A Email:\"))\n",
    "\n",
    "def searchById() :\n",
    "     for i in range(0,len(data)):\n",
    "   \n",
    "    \n",
    "        if(data[i][0] == ID):\n",
    "             print(data[i])\n",
    "# def searchByName():\n",
    "#      for i in range(0,len(data)):\n",
    "   \n",
    "    \n",
    "#         if(data[i][1] == Name):\n",
    "#              print(data[i])                \n",
    "# def searchByEmail():\n",
    "#      for i in range(0,len(data)):\n",
    "   \n",
    "    \n",
    "#         if(data[i][2] == Email):\n",
    "#              print(data[i])   \n",
    "                \n",
    "                \n",
    "searchById()\n",
    "# searchByName()\n",
    "# searchByEmail()\n",
    "\n",
    "                \n",
    "\n"
   ]
  },
  {
   "cell_type": "raw",
   "id": "d229055a",
   "metadata": {},
   "source": [
    "2. Write a python program to access following dictionary\n",
    "Mydict =\n",
    "{\"Enrollment Id\" : [12345,45667,16789,69433],\n",
    "\"Student Name : [\"Diksha \",\"Jiva\",\"Ronit\",\"Heena\"],\n",
    "\"Email Id \": [\"Diksha r@nuv.ac.in\",\"Jiva@nuv.ac.in\",\"Ronitd@nuv.ac.in\",\n",
    " \"Heena@nuv.ac.in\"] }\n",
    " print(f\"{enrolid:<7}{sname:12}{emailid:25}\")"
   ]
  },
  {
   "cell_type": "code",
   "execution_count": null,
   "id": "8ba063fb",
   "metadata": {},
   "outputs": [],
   "source": [
    "data = [(1234,\"Diksha\",\"Dikshar@numv.ac.in\"),(45667,\"Jiva\",\"Jiva@numv.ac.in\")\n",
    "        ,(16789,\"Ronitd\",\"Ronitd@numv.ac.in\"),(69433,\"Henna\",\"Henna@numv.ac.in\")]\n",
    "ID = int(input(\"Enter A ID:\"))\n",
    "# Name = str(input(\"Enter A Name:\"))\n",
    "# Email = str(input(\"Enter A Email:\"))\n",
    "\n",
    "def searchById() :\n",
    "    \n",
    "     for i in range(0,len(data)):\n",
    "   \n",
    "\n",
    "    \n",
    "        if(data[i][0] == ID):\n",
    "             print(data[i])\n",
    "# def searchByName():\n",
    "#      for i in range(0,len(data)):\n",
    "   \n",
    "    \n",
    "#         if(data[i][1] == Name):\n",
    "#              print(data[i])                \n",
    "# def searchByEmail():\n",
    "#      for i in range(0,len(data)):\n",
    "   \n",
    "    \n",
    "#         if(data[i][2] == Email):\n",
    "#              print(data[i])   \n",
    "                \n",
    "                \n",
    "searchById()\n",
    "# searchByName()\n",
    "# searchByEmail()\n",
    "\n",
    "                \n",
    "\n"
   ]
  },
  {
   "cell_type": "code",
   "execution_count": 6,
   "id": "8358b1fd",
   "metadata": {},
   "outputs": [
    {
     "name": "stdout",
     "output_type": "stream",
     "text": [
      "12345\n",
      "12345 Dikasa Dikasa@nuv.ac.in\n"
     ]
    }
   ],
   "source": [
    "MyD = {\"ID\":[12345,45667,16789,69433],\n",
    "        \"Name\":[\"Dikasa\",\"Jiva\",\"Ronit\",\"Henna\"],\n",
    "        \"Email\":[\"Dikasa@nuv.ac.in\",\"Jiva@nuv.ac.in\",\"Ronit@nuv.ac.in\",\"Henna@nuv.ac.in\"]}\n",
    "\n",
    "ID= int(input())\n",
    "\n",
    "for i in MyD:\n",
    "    if(i == \"ID\"):\n",
    "        for j in range (0,len(MyD[i])):\n",
    "             if(MyD[i][j] == ID):\n",
    "                print(MyD[i][j],MyD[\"Name\"][j],MyD[\"Email\"][j])\n",
    "# for i in MyD:\n",
    "#     if(i == \"Name\"):\n",
    "#         for j in range (0,len(MyD[i])):\n",
    "#              if(MyD[i][j] == \"Jiva\"):\n",
    "#                 print(MyD[\"ID\"][j],MyD[i][j],MyD[\"Email\"][j])\n",
    "# for i in MyD:\n",
    "#     if(i == \"Email\"):\n",
    "#         for j in range (0,len(MyD[i])):\n",
    "#              if(MyD[i][j] == \"Henna@nuv.ac.in\"):\n",
    "#                 print(MyD[\"ID\"][j],MyD[\"Name\"][j],MyD[i][j])\n",
    "                      \n",
    "      \n",
    "         \n",
    "    \n",
    "                          "
   ]
  },
  {
   "cell_type": "raw",
   "id": "cbb78858",
   "metadata": {},
   "source": [
    "3. Write a python program to convert data in nested list structure to dictionary.\n",
    "eg. data=[(12345,\"Diksha \",\"Diksha r@nuv.ac.in\"),(45667,\"Jiva\",\"Jiva@nuv.ac.in\"),\n",
    "(16789,\"Ronit\",\"Ronit@nuv.ac.in\"),(69433,\"Heena\",\"Heena@nuv.ac.in\")]\n",
    "Provide key such as Enrollment Id, Student Name, and Email id.\n",
    "Resultant Data\n",
    "mydict={\"Enrollment Id\" : [12345,45667,16789,69433],\n",
    "\"Student Name : [\"Diksha \",\"Jiva\",\"Ronit\",\"Heena\"], \"Email Id \"\n",
    ":[\"Diksha@nuv.ac.in\",\"Jiva@nuv.ac.in\",\"Ronitd@nuv.ac.in\",\"Heena@nuv.ac.in\"]\n",
    "}\n",
    "Display data in a tabular format."
   ]
  },
  {
   "cell_type": "code",
   "execution_count": 1,
   "id": "7d2aecc5",
   "metadata": {},
   "outputs": [
    {
     "name": "stdout",
     "output_type": "stream",
     "text": [
      "{'ID': [1234, 45667, 16789, 69433], 'Name': ['Diksha', 'Jiva', 'Ronitd', 'Henna'], 'Email': ['Dikshar@numv.ac.in', 'Jiva@numv.ac.in', 'Ronitd@numv.ac.in', 'Henna@numv.ac.in']}\n"
     ]
    }
   ],
   "source": [
    "data = [(1234,\"Diksha\",\"Dikshar@numv.ac.in\"),(45667,\"Jiva\",\"Jiva@numv.ac.in\")\n",
    "        ,(16789,\"Ronitd\",\"Ronitd@numv.ac.in\"),(69433,\"Henna\",\"Henna@numv.ac.in\")]\n",
    "dic={\n",
    "  \"ID\":[],\n",
    "  \"Name\":[],\n",
    "  \"Email\":[],  \n",
    "}\n",
    "\n",
    "for i in data :\n",
    "    dic[\"ID\"].append(i[0])\n",
    "    dic[\"Name\"].append(i[1])\n",
    "    dic[\"Email\"].append(i[2])\n",
    "print(dic)"
   ]
  },
  {
   "cell_type": "raw",
   "id": "bd1e7acb",
   "metadata": {},
   "source": [
    "# 4. Write a menu driven Object Oriented program to store Students details like Enrollment No,\n",
    "Student Name and Contact Number permanently using dictionary data structure.\n",
    "Add functions to add, update, delete and display data. Save data permanently in a JSON file.\n",
    "HINT:\n",
    "To import json library\n",
    "import json\n",
    "To write any object to python\n",
    "fw=open(\"students.json\",\"w\")\n",
    "jsndata = json.dumps(dictionary of students details)#dumps converts dictionary to json\n",
    "fw.write(jsndata)\n",
    "To read any json object from file\n",
    "fr=open(\"students.json\",\"r\")\n",
    "allStudents=json.load(fr) #reads whole file and returns the data.\n"
   ]
  },
  {
   "cell_type": "code",
   "execution_count": 28,
   "id": "c137f44a",
   "metadata": {},
   "outputs": [
    {
     "name": "stdout",
     "output_type": "stream",
     "text": [
      "\n"
     ]
    }
   ],
   "source": [
    "import json\n",
    "\n",
    "with open(\"data.json\",\"r\") as r:\n",
    "    \n",
    "   data = r.read()\n",
    "   print(data)\n",
    "    \n",
    "\n",
    "    \n",
    "data = {\n",
    "    \"name\":\"Yash\",\n",
    "    \"rolNo\":22000270,\n",
    "    \"No\":897656094\n",
    "}\n",
    "with open(\"data.json\",\"a\") as m:\n",
    "      finalData = json.dumps(data,indent=4)\n",
    " \n",
    "\n"
   ]
  },
  {
   "cell_type": "raw",
   "id": "034eee4b",
   "metadata": {},
   "source": [
    "5. A data.csv file has following data(stateid, name, population in crores, No. of Universities)\n",
    "data.csv\n",
    "12001,Gujarat,10,29,12002,Maharashtra,19,36,12003,Rajasthan,13,31,12004,Madhya\n",
    "Pradesh,14,21,12005,Punjab,12,13,12006,Karnataka,23,31,12007,Tamilnadu,25,29,1208,Keral\n",
    "a,21,15\n",
    "Read data.csv file. Transfer data to data structure like following\n",
    "States={\n",
    "12001: {\"name\":\"Gujarat\",\"population\":10,\"no_of_uni\":20},\n",
    "12002: {\"name\":\"Maharashtra\",\"population\":19,\"no_of_uni\":36}\n",
    "}\n",
    "Using this data, construct dictionary in following manner"
   ]
  },
  {
   "cell_type": "code",
   "execution_count": 16,
   "id": "aead0196",
   "metadata": {},
   "outputs": [
    {
     "name": "stdout",
     "output_type": "stream",
     "text": [
      "['stateId', 'name', 'population', 'no. university']\n",
      "[12001 'Gujarat' 10 29]\n",
      "[12002 'Maharashtra' 19 36]\n",
      "[12003 'Rajasthan' 13 31]\n",
      "[12004 'Madhyapradesh' 14 21]\n",
      "[12005 'Punjab' 12 13]\n",
      "[12006 'Karnataka' 23 31]\n",
      "[12007 'TamilNadu' 25 29]\n",
      "[12008 'Kerala' 21 15]\n"
     ]
    },
    {
     "data": {
      "text/plain": [
       "{12001: {'name': 'Gujarat', 'population': 10, 'no. university': 29},\n",
       " 12002: {'name': 'Maharashtra', 'population': 19, 'no. university': 36},\n",
       " 12003: {'name': 'Rajasthan', 'population': 13, 'no. university': 31},\n",
       " 12004: {'name': 'Madhyapradesh', 'population': 14, 'no. university': 21},\n",
       " 12005: {'name': 'Punjab', 'population': 12, 'no. university': 13},\n",
       " 12006: {'name': 'Karnataka', 'population': 23, 'no. university': 31},\n",
       " 12007: {'name': 'TamilNadu', 'population': 25, 'no. university': 29},\n",
       " 12008: {'name': 'Kerala', 'population': 21, 'no. university': 15}}"
      ]
     },
     "execution_count": 16,
     "metadata": {},
     "output_type": "execute_result"
    }
   ],
   "source": [
    "import pandas as pd\n",
    "df=pd.read_csv(\"data.csv\")\n",
    "keys = list(df.keys())\n",
    "print(keys)\n",
    "value=list(df.values)\n",
    "states={}\n",
    "for d in value:\n",
    "    print(d)\n",
    "    states[d[0]]={\n",
    "        keys[1]:d[1],\n",
    "        keys[2]:d[2],\n",
    "        keys[3]:d[3]\n",
    "        \n",
    "    }\n",
    "states      "
   ]
  },
  {
   "cell_type": "code",
   "execution_count": 4,
   "id": "303c15fb",
   "metadata": {},
   "outputs": [
    {
     "name": "stdout",
     "output_type": "stream",
     "text": [
      "{12001: {'name': 'Gujarat', 'population': 10, 'Unvi': 29}, 12002: {'name': 'Maharashtra', 'population': 19, 'Unvi': 36}, 12003: {'name': 'Rajasthan', 'population': 13, 'Unvi': 31}, 12004: {'name': 'Madhyapradesh', 'population': 14, 'Unvi': 21}, 12005: {'name': 'Punjab', 'population': 12, 'Unvi': 13}, 12006: {'name': 'Karnataka', 'population': 23, 'Unvi': 31}, 12007: {'name': 'TamilNadu', 'population': 25, 'Unvi': 29}, 12008: {'name': 'Kerala', 'population': 21, 'Unvi': 15}}\n"
     ]
    },
    {
     "data": {
      "text/plain": [
       "494"
      ]
     },
     "execution_count": 4,
     "metadata": {},
     "output_type": "execute_result"
    }
   ],
   "source": [
    "import pandas as pd\n",
    "import json\n",
    "\n",
    "df =pd.read_csv(\"data.csv\")\n",
    "states={}\n",
    "v=df.values\n",
    "for i in v:\n",
    "    states[i[0]]={\n",
    "      \"name\":i[1],\n",
    "        \"population\":i[2],\n",
    "        \"Unvi\":i[3]\n",
    "    }\n",
    "print(states)\n",
    "finalData = json.dumps(states)\n",
    "newFile =open(\"data2.csv\",\"w\")\n",
    "newFile.write(finalData)"
   ]
  },
  {
   "cell_type": "code",
   "execution_count": 3,
   "id": "1f15a275",
   "metadata": {},
   "outputs": [],
   "source": [
    "import pandas as pd"
   ]
  },
  {
   "cell_type": "code",
   "execution_count": 27,
   "id": "f57335a6",
   "metadata": {},
   "outputs": [
    {
     "name": "stdout",
     "output_type": "stream",
     "text": [
      "\n",
      "{\n",
      "    \"name\": \"Yash\",\n",
      "    \"rolNo\": 22000270,\n",
      "    \"No\": 897656094\n",
      "}\n"
     ]
    }
   ],
   "source": [
    "import json\n",
    " \n",
    "with open(\"data.json\",\"r\") as r:\n",
    "    \n",
    "  data = r.read()\n",
    "  print(data)\n",
    "    \n",
    "data = {\n",
    "    \"name\":\"Yash\",\n",
    "    \"rolNo\":22000270,\n",
    "    \"No\":897656094\n",
    "}\n",
    "with open(\"data.json\",\"w\") as w:\n",
    "      finalData = json.dumps(data,indent=4)\n",
    "print(finalData)\n"
   ]
  },
  {
   "cell_type": "code",
   "execution_count": null,
   "id": "d6aaca40",
   "metadata": {},
   "outputs": [],
   "source": []
  },
  {
   "cell_type": "code",
   "execution_count": null,
   "id": "d70b92f0",
   "metadata": {},
   "outputs": [],
   "source": []
  }
 ],
 "metadata": {
  "kernelspec": {
   "display_name": "Python 3 (ipykernel)",
   "language": "python",
   "name": "python3"
  },
  "language_info": {
   "codemirror_mode": {
    "name": "ipython",
    "version": 3
   },
   "file_extension": ".py",
   "mimetype": "text/x-python",
   "name": "python",
   "nbconvert_exporter": "python",
   "pygments_lexer": "ipython3",
   "version": "3.11.5"
  }
 },
 "nbformat": 4,
 "nbformat_minor": 5
}
